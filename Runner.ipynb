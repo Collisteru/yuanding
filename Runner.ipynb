{
 "cells": [
  {
   "cell_type": "markdown",
   "id": "fa0001f7-3887-425b-99ef-c9983411a2a9",
   "metadata": {
    "tags": []
   },
   "source": [
    "### Project Members: Vincent Pham, Sean Carter\n",
    "\n",
    "The libraries used are the following: \n",
    " - math\n",
    " - colorama\n",
    " - termcolor\n",
    " \n",
    " The frameworks used was based on the Mancala project in class in terms of having or building up to\n",
    " - display function\n",
    " - variable board sizing\n",
    " - move storage\n",
    " \n",
    " Our testing so far has confirmed the following functionality\n",
    " - Board\n",
    "     - Display\n",
    "     - Correct coordinate notation\n",
    " - Action\n",
    "     - Placing pieces\n",
    "     - Removing pieces\n",
    "     - Moving pieces\n",
    "         - Legally moving existing pieces\n",
    " - Placed pieces memory (Was tested in order to validate checkHarmonies in PaiSho.py was prelimininarily working)\n",
    "\n",
    "The following are functionalities to test but haven't been fully implemented or functionalities that are to be implemented with more progress.\n",
    " - Alpha Beta (Requires \"Minimax\" to work.)\n",
    "     - Minimax (Requires \"Evaluation function\" to work.)\n",
    "         - Evaluation function (Requires \"Harmony chain checking\" and \"Placed piece memory\" to work.)\n",
    "             - Harmony chain checking (Implemented and seems to preliminarily work, but more extensive testing and a harmony display function is desired.)\n",
    " - Random Game Actions (Requires \"Player input\" to work.)\n",
    "     - Player input (Requires \"Legally placing pieces\", \"Moving pieces\", \"Capturing Pieces\", and \"Win condition checking\" to work)\n",
    "         - Legally placing pieces (Pieces may only be initially placed in the Garden labeled as [G])\n",
    "         - Capturing pieces (Yet to be implemented and would be implemented as a part of \"Moving pieces\")\n",
    "         - Win condition checking (Requires \"Harmony chain checking\")\n",
    "             - Harmony chain checking (See above)             \n",
    " - Record Keeping (A move storage variable is in place and needs to be used on player action.)"
   ]
  },
  {
   "cell_type": "code",
   "execution_count": 1,
   "id": "b8721a25",
   "metadata": {},
   "outputs": [
    {
     "name": "stdout",
     "output_type": "stream",
     "text": [
      "Requirement already satisfied: colorama in /opt/conda/lib/python3.10/site-packages (0.4.6)\n",
      "Requirement already satisfied: termcolor in /opt/conda/lib/python3.10/site-packages (2.3.0)\n"
     ]
    }
   ],
   "source": [
    "!pip install colorama\n",
    "!pip install termcolor"
   ]
  },
  {
   "cell_type": "code",
   "execution_count": 2,
   "id": "71bc3725-e502-4bb7-8fe3-8207f7c2f67d",
   "metadata": {},
   "outputs": [
    {
     "name": "stdout",
     "output_type": "stream",
     "text": [
      "            \u001b[30m[ ]\u001b[0m\u001b[30m[ ]\u001b[0m\u001b[30m[ ]\u001b[0m\u001b[31m[ ]\u001b[0m\u001b[30m[ ]\u001b[0m\u001b[30m[ ]\u001b[0m\u001b[30m[ ]\u001b[0m            \n",
      "         \u001b[30m[ ]\u001b[0m\u001b[30m[ ]\u001b[0m\u001b[30m[ ]\u001b[0m\u001b[30m[ ]\u001b[0m\u001b[30m[ ]\u001b[0m\u001b[30m[ ]\u001b[0m\u001b[30m[ ]\u001b[0m\u001b[30m[ ]\u001b[0m\u001b[30m[ ]\u001b[0m         \n",
      "      \u001b[30m[ ]\u001b[0m\u001b[30m[ ]\u001b[0m\u001b[30m[ ]\u001b[0m\u001b[30m[ ]\u001b[0m\u001b[30m[ ]\u001b[0m\u001b[30m[ ]\u001b[0m\u001b[30m[ ]\u001b[0m\u001b[30m[ ]\u001b[0m\u001b[30m[ ]\u001b[0m\u001b[30m[ ]\u001b[0m\u001b[30m[ ]\u001b[0m      \n",
      "   \u001b[30m[ ]\u001b[0m\u001b[30m[ ]\u001b[0m\u001b[30m[ ]\u001b[0m\u001b[30m[ ]\u001b[0m\u001b[30m[ ]\u001b[0m\u001b[97m[ ]\u001b[0m\u001b[30m[ ]\u001b[0m\u001b[31m[ ]\u001b[0m\u001b[30m[ ]\u001b[0m\u001b[30m[ ]\u001b[0m\u001b[30m[ ]\u001b[0m\u001b[30m[ ]\u001b[0m\u001b[30m[ ]\u001b[0m   \n",
      "\u001b[30m[ ]\u001b[0m\u001b[30m[ ]\u001b[0m\u001b[30m[ ]\u001b[0m\u001b[30m[ ]\u001b[0m\u001b[30m[ ]\u001b[0m\u001b[97m[ ]\u001b[0m\u001b[97m[ ]\u001b[0m\u001b[30m[ ]\u001b[0m\u001b[31m[ ]\u001b[0m\u001b[31m[ ]\u001b[0m\u001b[30m[ ]\u001b[0m\u001b[30m[ ]\u001b[0m\u001b[30m[ ]\u001b[0m\u001b[30m[ ]\u001b[0m\u001b[30m[ ]\u001b[0m\n",
      "\u001b[30m[ ]\u001b[0m\u001b[30m[ ]\u001b[0m\u001b[30m[ ]\u001b[0m\u001b[30m[ ]\u001b[0m\u001b[97m[ ]\u001b[0m\u001b[97m[ ]\u001b[0m\u001b[97m[ ]\u001b[0m\u001b[30m[ ]\u001b[0m\u001b[31m[ ]\u001b[0m\u001b[31m[ ]\u001b[0m\u001b[31m[ ]\u001b[0m\u001b[30m[ ]\u001b[0m\u001b[30m[ ]\u001b[0m\u001b[30m[ ]\u001b[0m\u001b[30m[ ]\u001b[0m\n",
      "\u001b[30m[ ]\u001b[0m\u001b[30m[ ]\u001b[0m\u001b[30m[ ]\u001b[0m\u001b[97m[ ]\u001b[0m\u001b[97m[ ]\u001b[0m\u001b[97m[ ]\u001b[0m\u001b[97m[ ]\u001b[0m\u001b[30m[ ]\u001b[0m\u001b[31m[ ]\u001b[0m\u001b[31m[ ]\u001b[0m\u001b[31m[ ]\u001b[0m\u001b[31m[ ]\u001b[0m\u001b[30m[ ]\u001b[0m\u001b[30m[ ]\u001b[0m\u001b[30m[ ]\u001b[0m\n",
      "\u001b[31m[ ]\u001b[0m\u001b[30m[ ]\u001b[0m\u001b[30m[ ]\u001b[0m\u001b[30m[ ]\u001b[0m\u001b[30m[ ]\u001b[0m\u001b[30m[ ]\u001b[0m\u001b[30m[ ]\u001b[0m\u001b[30m[ ]\u001b[0m\u001b[30m[ ]\u001b[0m\u001b[30m[ ]\u001b[0m\u001b[30m[ ]\u001b[0m\u001b[30m[ ]\u001b[0m\u001b[30m[ ]\u001b[0m\u001b[30m[ ]\u001b[0m\u001b[31m[ ]\u001b[0m\n",
      "\u001b[30m[ ]\u001b[0m\u001b[30m[ ]\u001b[0m\u001b[30m[ ]\u001b[0m\u001b[31m[ ]\u001b[0m\u001b[31m[ ]\u001b[0m\u001b[31m[ ]\u001b[0m\u001b[31m[ ]\u001b[0m\u001b[30m[ ]\u001b[0m\u001b[97m[ ]\u001b[0m\u001b[97m[ ]\u001b[0m\u001b[97m[ ]\u001b[0m\u001b[97m[ ]\u001b[0m\u001b[30m[ ]\u001b[0m\u001b[30m[ ]\u001b[0m\u001b[30m[ ]\u001b[0m\n",
      "\u001b[30m[ ]\u001b[0m\u001b[30m[ ]\u001b[0m\u001b[30m[ ]\u001b[0m\u001b[30m[ ]\u001b[0m\u001b[31m[ ]\u001b[0m\u001b[31m[ ]\u001b[0m\u001b[31m[ ]\u001b[0m\u001b[30m[ ]\u001b[0m\u001b[97m[ ]\u001b[0m\u001b[97m[ ]\u001b[0m\u001b[97m[ ]\u001b[0m\u001b[30m[ ]\u001b[0m\u001b[30m[ ]\u001b[0m\u001b[30m[ ]\u001b[0m\u001b[30m[ ]\u001b[0m\n",
      "\u001b[30m[ ]\u001b[0m\u001b[30m[ ]\u001b[0m\u001b[30m[ ]\u001b[0m\u001b[30m[ ]\u001b[0m\u001b[30m[ ]\u001b[0m\u001b[31m[ ]\u001b[0m\u001b[31m[ ]\u001b[0m\u001b[30m[ ]\u001b[0m\u001b[97m[ ]\u001b[0m\u001b[97m[ ]\u001b[0m\u001b[30m[ ]\u001b[0m\u001b[30m[ ]\u001b[0m\u001b[30m[ ]\u001b[0m\u001b[30m[ ]\u001b[0m\u001b[30m[ ]\u001b[0m\n",
      "   \u001b[30m[ ]\u001b[0m\u001b[30m[ ]\u001b[0m\u001b[30m[ ]\u001b[0m\u001b[30m[ ]\u001b[0m\u001b[30m[ ]\u001b[0m\u001b[31m[ ]\u001b[0m\u001b[30m[ ]\u001b[0m\u001b[97m[ ]\u001b[0m\u001b[30m[ ]\u001b[0m\u001b[30m[ ]\u001b[0m\u001b[30m[ ]\u001b[0m\u001b[30m[ ]\u001b[0m\u001b[30m[ ]\u001b[0m   \n",
      "      \u001b[30m[ ]\u001b[0m\u001b[30m[ ]\u001b[0m\u001b[30m[ ]\u001b[0m\u001b[30m[ ]\u001b[0m\u001b[30m[ ]\u001b[0m\u001b[30m[ ]\u001b[0m\u001b[30m[ ]\u001b[0m\u001b[30m[ ]\u001b[0m\u001b[30m[ ]\u001b[0m\u001b[30m[ ]\u001b[0m\u001b[30m[ ]\u001b[0m      \n",
      "         \u001b[30m[ ]\u001b[0m\u001b[30m[ ]\u001b[0m\u001b[30m[ ]\u001b[0m\u001b[30m[ ]\u001b[0m\u001b[30m[ ]\u001b[0m\u001b[30m[ ]\u001b[0m\u001b[30m[ ]\u001b[0m\u001b[30m[ ]\u001b[0m\u001b[30m[ ]\u001b[0m         \n",
      "            \u001b[30m[ ]\u001b[0m\u001b[30m[ ]\u001b[0m\u001b[30m[ ]\u001b[0m\u001b[31m[ ]\u001b[0m\u001b[30m[ ]\u001b[0m\u001b[30m[ ]\u001b[0m\u001b[30m[ ]\u001b[0m            \n",
      "\n"
     ]
    }
   ],
   "source": [
    "import PaiSho\n",
    "import termcolor\n",
    "\n",
    "\n",
    "game = PaiSho.PaiSho()\n",
    "game.display_board()"
   ]
  },
  {
   "cell_type": "code",
   "execution_count": 3,
   "id": "cbb016ca-07a7-45f2-b13c-d9a0b1146273",
   "metadata": {},
   "outputs": [
    {
     "name": "stdout",
     "output_type": "stream",
     "text": [
      "            \u001b[30m[ ]\u001b[0m\u001b[30m[ ]\u001b[0m\u001b[30m[ ]\u001b[0m\u001b[31m[ ]\u001b[0m\u001b[30m[ ]\u001b[0m\u001b[30m[ ]\u001b[0m\u001b[30m[ ]\u001b[0m            \n",
      "         \u001b[30m[ ]\u001b[0m\u001b[30m[ ]\u001b[0m\u001b[30m[ ]\u001b[0m\u001b[30m[ ]\u001b[0m\u001b[30m[ ]\u001b[0m\u001b[30m[ ]\u001b[0m\u001b[30m[ ]\u001b[0m\u001b[30m[ ]\u001b[0m\u001b[30m[ ]\u001b[0m         \n",
      "      \u001b[30m[ ]\u001b[0m\u001b[30m[ ]\u001b[0m\u001b[30m[ ]\u001b[0m\u001b[30m[ ]\u001b[0m\u001b[30m[ ]\u001b[0m\u001b[30m[ ]\u001b[0m\u001b[30m[ ]\u001b[0m\u001b[30m[ ]\u001b[0m\u001b[30m[ ]\u001b[0m\u001b[30m[ ]\u001b[0m\u001b[30m[ ]\u001b[0m      \n",
      "   \u001b[30m[ ]\u001b[0m\u001b[30m[ ]\u001b[0m\u001b[30m[ ]\u001b[0m\u001b[30m[ ]\u001b[0m\u001b[30m[ ]\u001b[0m\u001b[97m[ ]\u001b[0m\u001b[30m[ ]\u001b[0m\u001b[31m[ ]\u001b[0m\u001b[30m[ ]\u001b[0m\u001b[30m[ ]\u001b[0m\u001b[30m[ ]\u001b[0m\u001b[30m[ ]\u001b[0m\u001b[30m[ ]\u001b[0m   \n",
      "\u001b[30m[ ]\u001b[0m\u001b[30m[ ]\u001b[0m\u001b[30m[ ]\u001b[0m\u001b[30m[ ]\u001b[0m\u001b[30m[ ]\u001b[0m\u001b[97m[ ]\u001b[0m\u001b[97m[ ]\u001b[0m\u001b[30m[ ]\u001b[0m\u001b[31m[ ]\u001b[0m\u001b[31m[ ]\u001b[0m\u001b[30m[ ]\u001b[0m\u001b[30m[ ]\u001b[0m\u001b[30m[ ]\u001b[0m\u001b[30m[ ]\u001b[0m\u001b[30m[ ]\u001b[0m\n",
      "\u001b[30m[ ]\u001b[0m\u001b[30m[ ]\u001b[0m\u001b[30m[ ]\u001b[0m\u001b[30m[ ]\u001b[0m\u001b[97m[ ]\u001b[0m\u001b[97m[ ]\u001b[0m\u001b[97m[ ]\u001b[0m\u001b[30m[ ]\u001b[0m\u001b[31m[ ]\u001b[0m\u001b[31m[ ]\u001b[0m\u001b[31m[ ]\u001b[0m\u001b[30m[ ]\u001b[0m\u001b[30m[ ]\u001b[0m\u001b[30m[ ]\u001b[0m\u001b[30m[ ]\u001b[0m\n",
      "\u001b[30m[ ]\u001b[0m\u001b[30m[ ]\u001b[0m\u001b[30m[ ]\u001b[0m\u001b[97m[ ]\u001b[0m\u001b[97m[ ]\u001b[0m\u001b[97m[ ]\u001b[0m\u001b[97m[ ]\u001b[0m\u001b[30m[ ]\u001b[0m\u001b[31m[ ]\u001b[0m\u001b[31m[\u001b[0m\u001b[97m3\u001b[0m\u001b[31m]\u001b[0m\u001b[31m[ ]\u001b[0m\u001b[31m[ ]\u001b[0m\u001b[30m[ ]\u001b[0m\u001b[30m[ ]\u001b[0m\u001b[30m[ ]\u001b[0m\n",
      "\u001b[31m[ ]\u001b[0m\u001b[30m[ ]\u001b[0m\u001b[30m[ ]\u001b[0m\u001b[30m[ ]\u001b[0m\u001b[30m[ ]\u001b[0m\u001b[30m[ ]\u001b[0m\u001b[30m[ ]\u001b[0m\u001b[30m[ ]\u001b[0m\u001b[30m[ ]\u001b[0m\u001b[30m[ ]\u001b[0m\u001b[30m[ ]\u001b[0m\u001b[30m[ ]\u001b[0m\u001b[30m[ ]\u001b[0m\u001b[30m[ ]\u001b[0m\u001b[31m[ ]\u001b[0m\n",
      "\u001b[30m[ ]\u001b[0m\u001b[30m[ ]\u001b[0m\u001b[30m[ ]\u001b[0m\u001b[31m[ ]\u001b[0m\u001b[31m[ ]\u001b[0m\u001b[31m[ ]\u001b[0m\u001b[31m[ ]\u001b[0m\u001b[30m[ ]\u001b[0m\u001b[97m[ ]\u001b[0m\u001b[97m[ ]\u001b[0m\u001b[97m[ ]\u001b[0m\u001b[97m[ ]\u001b[0m\u001b[30m[ ]\u001b[0m\u001b[30m[ ]\u001b[0m\u001b[30m[ ]\u001b[0m\n",
      "\u001b[30m[ ]\u001b[0m\u001b[30m[ ]\u001b[0m\u001b[30m[ ]\u001b[0m\u001b[30m[ ]\u001b[0m\u001b[31m[ ]\u001b[0m\u001b[31m[ ]\u001b[0m\u001b[31m[ ]\u001b[0m\u001b[30m[ ]\u001b[0m\u001b[97m[ ]\u001b[0m\u001b[97m[ ]\u001b[0m\u001b[97m[ ]\u001b[0m\u001b[30m[ ]\u001b[0m\u001b[30m[ ]\u001b[0m\u001b[30m[ ]\u001b[0m\u001b[30m[ ]\u001b[0m\n",
      "\u001b[30m[ ]\u001b[0m\u001b[30m[ ]\u001b[0m\u001b[30m[ ]\u001b[0m\u001b[30m[ ]\u001b[0m\u001b[30m[ ]\u001b[0m\u001b[31m[ ]\u001b[0m\u001b[31m[ ]\u001b[0m\u001b[30m[ ]\u001b[0m\u001b[97m[ ]\u001b[0m\u001b[97m[ ]\u001b[0m\u001b[30m[ ]\u001b[0m\u001b[30m[ ]\u001b[0m\u001b[30m[ ]\u001b[0m\u001b[30m[ ]\u001b[0m\u001b[30m[ ]\u001b[0m\n",
      "   \u001b[30m[ ]\u001b[0m\u001b[30m[ ]\u001b[0m\u001b[30m[ ]\u001b[0m\u001b[30m[ ]\u001b[0m\u001b[30m[ ]\u001b[0m\u001b[31m[ ]\u001b[0m\u001b[30m[ ]\u001b[0m\u001b[97m[ ]\u001b[0m\u001b[30m[ ]\u001b[0m\u001b[30m[ ]\u001b[0m\u001b[30m[ ]\u001b[0m\u001b[30m[ ]\u001b[0m\u001b[30m[ ]\u001b[0m   \n",
      "      \u001b[30m[ ]\u001b[0m\u001b[30m[ ]\u001b[0m\u001b[30m[ ]\u001b[0m\u001b[30m[ ]\u001b[0m\u001b[30m[ ]\u001b[0m\u001b[30m[ ]\u001b[0m\u001b[30m[ ]\u001b[0m\u001b[30m[ ]\u001b[0m\u001b[30m[ ]\u001b[0m\u001b[30m[ ]\u001b[0m\u001b[30m[ ]\u001b[0m      \n",
      "         \u001b[30m[ ]\u001b[0m\u001b[30m[ ]\u001b[0m\u001b[30m[ ]\u001b[0m\u001b[30m[ ]\u001b[0m\u001b[30m[ ]\u001b[0m\u001b[30m[ ]\u001b[0m\u001b[30m[ ]\u001b[0m\u001b[30m[ ]\u001b[0m\u001b[30m[ ]\u001b[0m         \n",
      "            \u001b[30m[ ]\u001b[0m\u001b[30m[ ]\u001b[0m\u001b[30m[ ]\u001b[0m\u001b[31m[ ]\u001b[0m\u001b[30m[ ]\u001b[0m\u001b[30m[ ]\u001b[0m\u001b[30m[ ]\u001b[0m            \n",
      "\n"
     ]
    }
   ],
   "source": [
    "# Add piece\n",
    "game.add(2,1,\"P1\")\n",
    "game.display_board()"
   ]
  },
  {
   "cell_type": "code",
   "execution_count": 4,
   "id": "2a726666-84e5-4eb4-a79f-da661fe927b1",
   "metadata": {},
   "outputs": [
    {
     "name": "stdout",
     "output_type": "stream",
     "text": [
      "            \u001b[30m[ ]\u001b[0m\u001b[30m[ ]\u001b[0m\u001b[30m[ ]\u001b[0m\u001b[31m[ ]\u001b[0m\u001b[30m[ ]\u001b[0m\u001b[30m[ ]\u001b[0m\u001b[30m[ ]\u001b[0m            \n",
      "         \u001b[30m[ ]\u001b[0m\u001b[30m[ ]\u001b[0m\u001b[30m[ ]\u001b[0m\u001b[30m[ ]\u001b[0m\u001b[30m[ ]\u001b[0m\u001b[30m[ ]\u001b[0m\u001b[30m[ ]\u001b[0m\u001b[30m[ ]\u001b[0m\u001b[30m[ ]\u001b[0m         \n",
      "      \u001b[30m[ ]\u001b[0m\u001b[30m[ ]\u001b[0m\u001b[30m[ ]\u001b[0m\u001b[30m[ ]\u001b[0m\u001b[30m[ ]\u001b[0m\u001b[30m[ ]\u001b[0m\u001b[30m[ ]\u001b[0m\u001b[30m[ ]\u001b[0m\u001b[30m[ ]\u001b[0m\u001b[30m[ ]\u001b[0m\u001b[30m[ ]\u001b[0m      \n",
      "   \u001b[30m[ ]\u001b[0m\u001b[30m[ ]\u001b[0m\u001b[30m[ ]\u001b[0m\u001b[30m[ ]\u001b[0m\u001b[30m[ ]\u001b[0m\u001b[97m[ ]\u001b[0m\u001b[30m[ ]\u001b[0m\u001b[31m[ ]\u001b[0m\u001b[30m[ ]\u001b[0m\u001b[30m[ ]\u001b[0m\u001b[30m[ ]\u001b[0m\u001b[30m[ ]\u001b[0m\u001b[30m[ ]\u001b[0m   \n",
      "\u001b[30m[ ]\u001b[0m\u001b[30m[ ]\u001b[0m\u001b[30m[ ]\u001b[0m\u001b[30m[ ]\u001b[0m\u001b[30m[ ]\u001b[0m\u001b[97m[ ]\u001b[0m\u001b[97m[ ]\u001b[0m\u001b[30m[ ]\u001b[0m\u001b[31m[ ]\u001b[0m\u001b[31m[ ]\u001b[0m\u001b[30m[ ]\u001b[0m\u001b[30m[ ]\u001b[0m\u001b[30m[ ]\u001b[0m\u001b[30m[ ]\u001b[0m\u001b[30m[ ]\u001b[0m\n",
      "\u001b[30m[ ]\u001b[0m\u001b[30m[ ]\u001b[0m\u001b[30m[ ]\u001b[0m\u001b[30m[ ]\u001b[0m\u001b[97m[ ]\u001b[0m\u001b[97m[ ]\u001b[0m\u001b[97m[ ]\u001b[0m\u001b[30m[ ]\u001b[0m\u001b[31m[ ]\u001b[0m\u001b[31m[\u001b[0m\u001b[97m3\u001b[0m\u001b[31m]\u001b[0m\u001b[31m[ ]\u001b[0m\u001b[30m[ ]\u001b[0m\u001b[30m[ ]\u001b[0m\u001b[30m[ ]\u001b[0m\u001b[30m[ ]\u001b[0m\n",
      "\u001b[30m[ ]\u001b[0m\u001b[30m[ ]\u001b[0m\u001b[30m[ ]\u001b[0m\u001b[97m[ ]\u001b[0m\u001b[97m[ ]\u001b[0m\u001b[97m[ ]\u001b[0m\u001b[97m[ ]\u001b[0m\u001b[30m[ ]\u001b[0m\u001b[31m[ ]\u001b[0m\u001b[31m[ ]\u001b[0m\u001b[31m[ ]\u001b[0m\u001b[31m[ ]\u001b[0m\u001b[30m[ ]\u001b[0m\u001b[30m[ ]\u001b[0m\u001b[30m[ ]\u001b[0m\n",
      "\u001b[31m[ ]\u001b[0m\u001b[30m[ ]\u001b[0m\u001b[30m[ ]\u001b[0m\u001b[30m[ ]\u001b[0m\u001b[30m[ ]\u001b[0m\u001b[30m[ ]\u001b[0m\u001b[30m[ ]\u001b[0m\u001b[30m[ ]\u001b[0m\u001b[30m[ ]\u001b[0m\u001b[30m[ ]\u001b[0m\u001b[30m[ ]\u001b[0m\u001b[30m[ ]\u001b[0m\u001b[30m[ ]\u001b[0m\u001b[30m[ ]\u001b[0m\u001b[31m[ ]\u001b[0m\n",
      "\u001b[30m[ ]\u001b[0m\u001b[30m[ ]\u001b[0m\u001b[30m[ ]\u001b[0m\u001b[31m[ ]\u001b[0m\u001b[31m[ ]\u001b[0m\u001b[31m[ ]\u001b[0m\u001b[31m[ ]\u001b[0m\u001b[30m[ ]\u001b[0m\u001b[97m[ ]\u001b[0m\u001b[97m[ ]\u001b[0m\u001b[97m[ ]\u001b[0m\u001b[97m[ ]\u001b[0m\u001b[30m[ ]\u001b[0m\u001b[30m[ ]\u001b[0m\u001b[30m[ ]\u001b[0m\n",
      "\u001b[30m[ ]\u001b[0m\u001b[30m[ ]\u001b[0m\u001b[30m[ ]\u001b[0m\u001b[30m[ ]\u001b[0m\u001b[31m[ ]\u001b[0m\u001b[31m[ ]\u001b[0m\u001b[31m[ ]\u001b[0m\u001b[30m[ ]\u001b[0m\u001b[97m[ ]\u001b[0m\u001b[97m[ ]\u001b[0m\u001b[97m[ ]\u001b[0m\u001b[30m[ ]\u001b[0m\u001b[30m[ ]\u001b[0m\u001b[30m[ ]\u001b[0m\u001b[30m[ ]\u001b[0m\n",
      "\u001b[30m[ ]\u001b[0m\u001b[30m[ ]\u001b[0m\u001b[30m[ ]\u001b[0m\u001b[30m[ ]\u001b[0m\u001b[30m[ ]\u001b[0m\u001b[31m[ ]\u001b[0m\u001b[31m[ ]\u001b[0m\u001b[30m[ ]\u001b[0m\u001b[97m[ ]\u001b[0m\u001b[97m[ ]\u001b[0m\u001b[30m[ ]\u001b[0m\u001b[30m[ ]\u001b[0m\u001b[30m[ ]\u001b[0m\u001b[30m[ ]\u001b[0m\u001b[30m[ ]\u001b[0m\n",
      "   \u001b[30m[ ]\u001b[0m\u001b[30m[ ]\u001b[0m\u001b[30m[ ]\u001b[0m\u001b[30m[ ]\u001b[0m\u001b[30m[ ]\u001b[0m\u001b[31m[ ]\u001b[0m\u001b[30m[ ]\u001b[0m\u001b[97m[ ]\u001b[0m\u001b[30m[ ]\u001b[0m\u001b[30m[ ]\u001b[0m\u001b[30m[ ]\u001b[0m\u001b[30m[ ]\u001b[0m\u001b[30m[ ]\u001b[0m   \n",
      "      \u001b[30m[ ]\u001b[0m\u001b[30m[ ]\u001b[0m\u001b[30m[ ]\u001b[0m\u001b[30m[ ]\u001b[0m\u001b[30m[ ]\u001b[0m\u001b[30m[ ]\u001b[0m\u001b[30m[ ]\u001b[0m\u001b[30m[ ]\u001b[0m\u001b[30m[ ]\u001b[0m\u001b[30m[ ]\u001b[0m\u001b[30m[ ]\u001b[0m      \n",
      "         \u001b[30m[ ]\u001b[0m\u001b[30m[ ]\u001b[0m\u001b[30m[ ]\u001b[0m\u001b[30m[ ]\u001b[0m\u001b[30m[ ]\u001b[0m\u001b[30m[ ]\u001b[0m\u001b[30m[ ]\u001b[0m\u001b[30m[ ]\u001b[0m\u001b[30m[ ]\u001b[0m         \n",
      "            \u001b[30m[ ]\u001b[0m\u001b[30m[ ]\u001b[0m\u001b[30m[ ]\u001b[0m\u001b[31m[ ]\u001b[0m\u001b[30m[ ]\u001b[0m\u001b[30m[ ]\u001b[0m\u001b[30m[ ]\u001b[0m            \n",
      "\n"
     ]
    }
   ],
   "source": [
    "# Move piece one square up\n",
    "game.move(2,1,2,2)\n",
    "game.display_board()"
   ]
  },
  {
   "cell_type": "code",
   "execution_count": 5,
   "id": "2ecf838b-3466-4602-b3ff-5001b0247d83",
   "metadata": {},
   "outputs": [
    {
     "name": "stdout",
     "output_type": "stream",
     "text": [
      "            \u001b[30m[ ]\u001b[0m\u001b[30m[ ]\u001b[0m\u001b[30m[ ]\u001b[0m\u001b[31m[ ]\u001b[0m\u001b[30m[ ]\u001b[0m\u001b[30m[ ]\u001b[0m\u001b[30m[ ]\u001b[0m            \n",
      "         \u001b[30m[ ]\u001b[0m\u001b[30m[ ]\u001b[0m\u001b[30m[ ]\u001b[0m\u001b[30m[ ]\u001b[0m\u001b[30m[ ]\u001b[0m\u001b[30m[ ]\u001b[0m\u001b[30m[ ]\u001b[0m\u001b[30m[ ]\u001b[0m\u001b[30m[ ]\u001b[0m         \n",
      "      \u001b[30m[ ]\u001b[0m\u001b[30m[ ]\u001b[0m\u001b[30m[ ]\u001b[0m\u001b[30m[ ]\u001b[0m\u001b[30m[ ]\u001b[0m\u001b[30m[ ]\u001b[0m\u001b[30m[ ]\u001b[0m\u001b[30m[ ]\u001b[0m\u001b[30m[ ]\u001b[0m\u001b[30m[ ]\u001b[0m\u001b[30m[ ]\u001b[0m      \n",
      "   \u001b[30m[ ]\u001b[0m\u001b[30m[ ]\u001b[0m\u001b[30m[ ]\u001b[0m\u001b[30m[ ]\u001b[0m\u001b[30m[ ]\u001b[0m\u001b[97m[ ]\u001b[0m\u001b[30m[ ]\u001b[0m\u001b[31m[ ]\u001b[0m\u001b[30m[ ]\u001b[0m\u001b[30m[ ]\u001b[0m\u001b[30m[ ]\u001b[0m\u001b[30m[ ]\u001b[0m\u001b[30m[ ]\u001b[0m   \n",
      "\u001b[30m[ ]\u001b[0m\u001b[30m[ ]\u001b[0m\u001b[30m[ ]\u001b[0m\u001b[30m[ ]\u001b[0m\u001b[30m[ ]\u001b[0m\u001b[97m[ ]\u001b[0m\u001b[97m[ ]\u001b[0m\u001b[30m[ ]\u001b[0m\u001b[31m[ ]\u001b[0m\u001b[31m[ ]\u001b[0m\u001b[30m[\u001b[0m\u001b[97m3\u001b[0m\u001b[30m]\u001b[0m\u001b[30m[ ]\u001b[0m\u001b[30m[ ]\u001b[0m\u001b[30m[ ]\u001b[0m\u001b[30m[ ]\u001b[0m\n",
      "\u001b[30m[ ]\u001b[0m\u001b[30m[ ]\u001b[0m\u001b[30m[ ]\u001b[0m\u001b[30m[ ]\u001b[0m\u001b[97m[ ]\u001b[0m\u001b[97m[ ]\u001b[0m\u001b[97m[ ]\u001b[0m\u001b[30m[ ]\u001b[0m\u001b[31m[ ]\u001b[0m\u001b[31m[ ]\u001b[0m\u001b[31m[ ]\u001b[0m\u001b[30m[ ]\u001b[0m\u001b[30m[ ]\u001b[0m\u001b[30m[ ]\u001b[0m\u001b[30m[ ]\u001b[0m\n",
      "\u001b[30m[ ]\u001b[0m\u001b[30m[ ]\u001b[0m\u001b[30m[ ]\u001b[0m\u001b[97m[ ]\u001b[0m\u001b[97m[ ]\u001b[0m\u001b[97m[ ]\u001b[0m\u001b[97m[ ]\u001b[0m\u001b[30m[ ]\u001b[0m\u001b[31m[ ]\u001b[0m\u001b[31m[ ]\u001b[0m\u001b[31m[ ]\u001b[0m\u001b[31m[ ]\u001b[0m\u001b[30m[ ]\u001b[0m\u001b[30m[ ]\u001b[0m\u001b[30m[ ]\u001b[0m\n",
      "\u001b[31m[ ]\u001b[0m\u001b[30m[ ]\u001b[0m\u001b[30m[ ]\u001b[0m\u001b[30m[ ]\u001b[0m\u001b[30m[ ]\u001b[0m\u001b[30m[ ]\u001b[0m\u001b[30m[ ]\u001b[0m\u001b[30m[ ]\u001b[0m\u001b[30m[ ]\u001b[0m\u001b[30m[ ]\u001b[0m\u001b[30m[ ]\u001b[0m\u001b[30m[ ]\u001b[0m\u001b[30m[ ]\u001b[0m\u001b[30m[ ]\u001b[0m\u001b[31m[ ]\u001b[0m\n",
      "\u001b[30m[ ]\u001b[0m\u001b[30m[ ]\u001b[0m\u001b[30m[ ]\u001b[0m\u001b[31m[ ]\u001b[0m\u001b[31m[ ]\u001b[0m\u001b[31m[ ]\u001b[0m\u001b[31m[ ]\u001b[0m\u001b[30m[ ]\u001b[0m\u001b[97m[ ]\u001b[0m\u001b[97m[ ]\u001b[0m\u001b[97m[ ]\u001b[0m\u001b[97m[ ]\u001b[0m\u001b[30m[ ]\u001b[0m\u001b[30m[ ]\u001b[0m\u001b[30m[ ]\u001b[0m\n",
      "\u001b[30m[ ]\u001b[0m\u001b[30m[ ]\u001b[0m\u001b[30m[ ]\u001b[0m\u001b[30m[ ]\u001b[0m\u001b[31m[ ]\u001b[0m\u001b[31m[ ]\u001b[0m\u001b[31m[ ]\u001b[0m\u001b[30m[ ]\u001b[0m\u001b[97m[ ]\u001b[0m\u001b[97m[ ]\u001b[0m\u001b[97m[ ]\u001b[0m\u001b[30m[ ]\u001b[0m\u001b[30m[ ]\u001b[0m\u001b[30m[ ]\u001b[0m\u001b[30m[ ]\u001b[0m\n",
      "\u001b[30m[ ]\u001b[0m\u001b[30m[ ]\u001b[0m\u001b[30m[ ]\u001b[0m\u001b[30m[ ]\u001b[0m\u001b[30m[ ]\u001b[0m\u001b[31m[ ]\u001b[0m\u001b[31m[ ]\u001b[0m\u001b[30m[ ]\u001b[0m\u001b[97m[ ]\u001b[0m\u001b[97m[ ]\u001b[0m\u001b[30m[ ]\u001b[0m\u001b[30m[ ]\u001b[0m\u001b[30m[ ]\u001b[0m\u001b[30m[ ]\u001b[0m\u001b[30m[ ]\u001b[0m\n",
      "   \u001b[30m[ ]\u001b[0m\u001b[30m[ ]\u001b[0m\u001b[30m[ ]\u001b[0m\u001b[30m[ ]\u001b[0m\u001b[30m[ ]\u001b[0m\u001b[31m[ ]\u001b[0m\u001b[30m[ ]\u001b[0m\u001b[97m[ ]\u001b[0m\u001b[30m[ ]\u001b[0m\u001b[30m[ ]\u001b[0m\u001b[30m[ ]\u001b[0m\u001b[30m[ ]\u001b[0m\u001b[30m[ ]\u001b[0m   \n",
      "      \u001b[30m[ ]\u001b[0m\u001b[30m[ ]\u001b[0m\u001b[30m[ ]\u001b[0m\u001b[30m[ ]\u001b[0m\u001b[30m[ ]\u001b[0m\u001b[30m[ ]\u001b[0m\u001b[30m[ ]\u001b[0m\u001b[30m[ ]\u001b[0m\u001b[30m[ ]\u001b[0m\u001b[30m[ ]\u001b[0m\u001b[30m[ ]\u001b[0m      \n",
      "         \u001b[30m[ ]\u001b[0m\u001b[30m[ ]\u001b[0m\u001b[30m[ ]\u001b[0m\u001b[30m[ ]\u001b[0m\u001b[30m[ ]\u001b[0m\u001b[30m[ ]\u001b[0m\u001b[30m[ ]\u001b[0m\u001b[30m[ ]\u001b[0m\u001b[30m[ ]\u001b[0m         \n",
      "            \u001b[30m[ ]\u001b[0m\u001b[30m[ ]\u001b[0m\u001b[30m[ ]\u001b[0m\u001b[31m[ ]\u001b[0m\u001b[30m[ ]\u001b[0m\u001b[30m[ ]\u001b[0m\u001b[30m[ ]\u001b[0m            \n",
      "\n"
     ]
    }
   ],
   "source": [
    "# Move piece up one and to the right diagonally\n",
    "game.move(2,2,3,3)\n",
    "game.display_board()"
   ]
  },
  {
   "cell_type": "code",
   "execution_count": 6,
   "id": "c4759426-bc4e-426f-8822-f12f069cfdfb",
   "metadata": {},
   "outputs": [],
   "source": [
    "# Try to move piece out of range. An exception should result\n",
    "#game.move(3,3,-1,3)\n",
    "#game.display_board()"
   ]
  },
  {
   "cell_type": "code",
   "execution_count": 7,
   "id": "c94a0130-798c-41c3-acc7-f1fa6761b147",
   "metadata": {},
   "outputs": [],
   "source": [
    "# Other Examples:\n",
    "\n",
    "# # Example of setting specific values:\n",
    "# game.add(2,1,\"P1\")\n",
    "# game.display_board()\n",
    "\n",
    "# # Example of setting specific values:\n",
    "# game.remove(2,1)\n",
    "# game.display_board()\n",
    "\n",
    "# # game.add(2,-1,\"P1\")\n",
    "# game.display_board()\n",
    "\n",
    "# # Example of setting specific values:\n",
    "# game.checkHarmonies()"
   ]
  },
  {
   "cell_type": "code",
   "execution_count": 8,
   "id": "5330efb8-dd36-4f6a-a104-a8494af16979",
   "metadata": {},
   "outputs": [
    {
     "name": "stdout",
     "output_type": "stream",
     "text": [
      " ( ( 2,1 ) -- ( 2,2 ) )\n"
     ]
    }
   ],
   "source": [
    "game.display_harmony_chains()"
   ]
  },
  {
   "cell_type": "code",
   "execution_count": null,
   "id": "5e51835a-7cdc-4c2f-b4ad-eb0f8a4a2430",
   "metadata": {},
   "outputs": [],
   "source": []
  }
 ],
 "metadata": {
  "kernelspec": {
   "display_name": "Python 3 (ipykernel)",
   "language": "python",
   "name": "python3"
  },
  "language_info": {
   "codemirror_mode": {
    "name": "ipython",
    "version": 3
   },
   "file_extension": ".py",
   "mimetype": "text/x-python",
   "name": "python",
   "nbconvert_exporter": "python",
   "pygments_lexer": "ipython3",
   "version": "3.10.8"
  }
 },
 "nbformat": 4,
 "nbformat_minor": 5
}

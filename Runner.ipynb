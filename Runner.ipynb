{
 "cells": [
  {
   "cell_type": "markdown",
   "id": "fa0001f7-3887-425b-99ef-c9983411a2a9",
   "metadata": {
    "tags": []
   },
   "source": [
    "### Project Members: Vincent Pham, Sean Carter\n",
    "\n",
    "The libraries used are the following: \n",
    " - math\n",
    " - colorama\n",
    " - termcolor\n",
    " \n",
    " The frameworks used was based on the Mancala project in class in terms of having or building up to\n",
    " - display function\n",
    " - variable board sizing\n",
    " - move storage\n",
    " \n",
    " Our testing so far has confirmed the following functionality\n",
    " - Board\n",
    "     - Display\n",
    "     - Correct coordinate notation\n",
    " - Action\n",
    "     - Placing pieces\n",
    "     - Removing pieces\n",
    "     - Moving pieces\n",
    "         - Legally moving existing pieces\n",
    " - Placed pieces memory (Was tested in order to validate checkHarmonies in PaiSho.py was prelimininarily working)\n",
    "\n",
    "The following are functionalities to test but haven't been fully implemented or functionalities that are to be implemented with more progress.\n",
    " - Alpha Beta (Requires \"Minimax\" to work.)\n",
    "     - Minimax (Requires \"Evaluation function\" to work.)\n",
    "         - Evaluation function (Requires \"Harmony chain checking\" and \"Placed piece memory\" to work.)\n",
    "             - Harmony chain checking (Implemented and seems to preliminarily work, but more extensive testing and a harmony display function is desired.)\n",
    " - Random Game Actions (Requires \"Player input\" to work.)\n",
    "     - Player input (Requires \"Legally placing pieces\", \"Moving pieces\", \"Capturing Pieces\", and \"Win condition checking\" to work)\n",
    "         - Legally placing pieces (Pieces may only be initially placed in the Garden labeled as [G])\n",
    "         - Capturing pieces (Yet to be implemented and would be implemented as a part of \"Moving pieces\")\n",
    "         - Win condition checking (Requires \"Harmony chain checking\")\n",
    "             - Harmony chain checking (See above)             \n",
    " - Record Keeping (A move storage variable is in place and needs to be used on player action.)"
   ]
  },
  {
   "cell_type": "code",
   "execution_count": 3,
   "metadata": {},
   "outputs": [
    {
     "name": "stdout",
     "output_type": "stream",
     "text": [
      "Defaulting to user installation because normal site-packages is not writeable\n",
      "Requirement already satisfied: colorama in c:\\users\\seand\\appdata\\roaming\\python\\python311\\site-packages (0.4.6)\n",
      "Defaulting to user installation because normal site-packages is not writeable\n",
      "Collecting termcolor\n",
      "  Using cached termcolor-2.3.0-py3-none-any.whl (6.9 kB)\n",
      "Installing collected packages: termcolor\n",
      "Successfully installed termcolor-2.3.0\n"
     ]
    }
   ],
   "source": [
    "!pip install colorama\n",
    "!pip install termcolor"
   ]
  },
  {
   "cell_type": "code",
   "execution_count": 4,
   "id": "71bc3725-e502-4bb7-8fe3-8207f7c2f67d",
   "metadata": {},
   "outputs": [
    {
     "name": "stdout",
     "output_type": "stream",
     "text": [
      "[B][B][B][B][_][_][_][G][_][_][_][B][B][B][B]\n",
      "[B][B][B][_][_][_][_][_][_][_][_][_][B][B][B]\n",
      "[B][B][_][_][_][_][_][_][_][_][_][_][_][B][B]\n",
      "[B][_][_][_][_][_][W][_][R][_][_][_][_][_][B]\n",
      "[_][_][_][_][_][W][W][_][R][R][_][_][_][_][_]\n",
      "[_][_][_][_][W][W][W][_][R][R][R][_][_][_][_]\n",
      "[_][_][_][W][W][W][W][_][R][R][R][R][_][_][_]\n",
      "[G][_][_][_][_][_][_][_][_][_][_][_][_][_][G]\n",
      "[_][_][_][R][R][R][R][_][W][W][W][W][_][_][_]\n",
      "[_][_][_][_][R][R][R][_][W][W][W][_][_][_][_]\n",
      "[_][_][_][_][_][R][R][_][W][W][_][_][_][_][_]\n",
      "[B][_][_][_][_][_][R][_][W][_][_][_][_][_][B]\n",
      "[B][B][_][_][_][_][_][_][_][_][_][_][_][B][B]\n",
      "[B][B][B][_][_][_][_][_][_][_][_][_][B][B][B]\n",
      "[B][B][B][B][_][_][_][G][_][_][_][B][B][B][B]\n",
      "\n"
     ]
    }
   ],
   "source": [
    "import PaiSho\n",
    "import termcolor\n",
    "\n",
    "\n",
    "game = PaiSho.PaiSho()\n",
    "game.display_board()"
   ]
  },
  {
   "cell_type": "code",
   "execution_count": 5,
   "id": "cbb016ca-07a7-45f2-b13c-d9a0b1146273",
   "metadata": {},
   "outputs": [
    {
     "name": "stdout",
     "output_type": "stream",
     "text": [
      "[B][B][B][B][_][_][_][G][_][_][_][B][B][B][B]\n",
      "[B][B][B][_][_][_][_][_][_][_][_][_][B][B][B]\n",
      "[B][B][_][_][_][_][_][_][_][_][_][_][_][B][B]\n",
      "[B][_][_][_][_][_][W][_][R][_][_][_][_][_][B]\n",
      "[_][_][_][_][_][W][W][_][R][R][_][_][_][_][_]\n",
      "[_][_][_][_][W][W][W][_][R][R][R][_][_][_][_]\n",
      "[_][_][_][W][W][W][W][_][R][3][R][R][_][_][_]\n",
      "[G][_][_][_][_][_][_][_][_][_][_][_][_][_][G]\n",
      "[_][_][_][R][R][R][R][_][W][W][W][W][_][_][_]\n",
      "[_][_][_][_][R][R][R][_][W][W][W][_][_][_][_]\n",
      "[_][_][_][_][_][R][R][_][W][W][_][_][_][_][_]\n",
      "[B][_][_][_][_][_][R][_][W][_][_][_][_][_][B]\n",
      "[B][B][_][_][_][_][_][_][_][_][_][_][_][B][B]\n",
      "[B][B][B][_][_][_][_][_][_][_][_][_][B][B][B]\n",
      "[B][B][B][B][_][_][_][G][_][_][_][B][B][B][B]\n",
      "\n"
     ]
    }
   ],
   "source": [
    "# Add piece\n",
    "game.add(2,1,\"P1\")\n",
    "game.display_board()"
   ]
  },
  {
   "cell_type": "code",
   "execution_count": 6,
   "id": "2a726666-84e5-4eb4-a79f-da661fe927b1",
   "metadata": {},
   "outputs": [
    {
     "name": "stdout",
     "output_type": "stream",
     "text": [
      "[B][B][B][B][_][_][_][G][_][_][_][B][B][B][B]\n",
      "[B][B][B][_][_][_][_][_][_][_][_][_][B][B][B]\n",
      "[B][B][_][_][_][_][_][_][_][_][_][_][_][B][B]\n",
      "[B][_][_][_][_][_][W][_][R][_][_][_][_][_][B]\n",
      "[_][_][_][_][_][W][W][_][R][R][_][_][_][_][_]\n",
      "[_][_][_][_][W][W][W][_][R][3][R][_][_][_][_]\n",
      "[_][_][_][W][W][W][W][_][R][R][R][R][_][_][_]\n",
      "[G][_][_][_][_][_][_][_][_][_][_][_][_][_][G]\n",
      "[_][_][_][R][R][R][R][_][W][W][W][W][_][_][_]\n",
      "[_][_][_][_][R][R][R][_][W][W][W][_][_][_][_]\n",
      "[_][_][_][_][_][R][R][_][W][W][_][_][_][_][_]\n",
      "[B][_][_][_][_][_][R][_][W][_][_][_][_][_][B]\n",
      "[B][B][_][_][_][_][_][_][_][_][_][_][_][B][B]\n",
      "[B][B][B][_][_][_][_][_][_][_][_][_][B][B][B]\n",
      "[B][B][B][B][_][_][_][G][_][_][_][B][B][B][B]\n",
      "\n"
     ]
    }
   ],
   "source": [
    "# Move piece one square up\n",
    "game.move(2,1,2,2)\n",
    "game.display_board()"
   ]
  },
  {
   "cell_type": "code",
   "execution_count": 7,
   "id": "2ecf838b-3466-4602-b3ff-5001b0247d83",
   "metadata": {},
   "outputs": [
    {
     "name": "stdout",
     "output_type": "stream",
     "text": [
      "[B][B][B][B][_][_][_][G][_][_][_][B][B][B][B]\n",
      "[B][B][B][_][_][_][_][_][_][_][_][_][B][B][B]\n",
      "[B][B][_][_][_][_][_][_][_][_][_][_][_][B][B]\n",
      "[B][_][_][_][_][_][W][_][R][_][_][_][_][_][B]\n",
      "[_][_][_][_][_][W][W][_][R][R][3][_][_][_][_]\n",
      "[_][_][_][_][W][W][W][_][R][R][R][_][_][_][_]\n",
      "[_][_][_][W][W][W][W][_][R][R][R][R][_][_][_]\n",
      "[G][_][_][_][_][_][_][_][_][_][_][_][_][_][G]\n",
      "[_][_][_][R][R][R][R][_][W][W][W][W][_][_][_]\n",
      "[_][_][_][_][R][R][R][_][W][W][W][_][_][_][_]\n",
      "[_][_][_][_][_][R][R][_][W][W][_][_][_][_][_]\n",
      "[B][_][_][_][_][_][R][_][W][_][_][_][_][_][B]\n",
      "[B][B][_][_][_][_][_][_][_][_][_][_][_][B][B]\n",
      "[B][B][B][_][_][_][_][_][_][_][_][_][B][B][B]\n",
      "[B][B][B][B][_][_][_][G][_][_][_][B][B][B][B]\n",
      "\n"
     ]
    }
   ],
   "source": [
    "# Move piece up one and to the right diagonally\n",
    "game.move(2,2,3,3)\n",
    "game.display_board()"
   ]
  },
  {
   "cell_type": "code",
   "execution_count": 9,
   "id": "c4759426-bc4e-426f-8822-f12f069cfdfb",
   "metadata": {},
   "outputs": [
    {
     "ename": "Exception",
     "evalue": "Out of range",
     "output_type": "error",
     "traceback": [
      "\u001b[1;31m---------------------------------------------------------------------------\u001b[0m",
      "\u001b[1;31mException\u001b[0m                                 Traceback (most recent call last)",
      "\u001b[1;32mc:\\Users\\seand\\Documents\\school\\F2023\\CSCI_3202\\final_project\\yuanding\\Runner.ipynb Cell 7\u001b[0m line \u001b[0;36m2\n\u001b[0;32m      <a href='vscode-notebook-cell:/c%3A/Users/seand/Documents/school/F2023/CSCI_3202/final_project/yuanding/Runner.ipynb#W5sZmlsZQ%3D%3D?line=0'>1</a>\u001b[0m \u001b[39m# Try to move piece out of range. An exception should result\u001b[39;00m\n\u001b[1;32m----> <a href='vscode-notebook-cell:/c%3A/Users/seand/Documents/school/F2023/CSCI_3202/final_project/yuanding/Runner.ipynb#W5sZmlsZQ%3D%3D?line=1'>2</a>\u001b[0m game\u001b[39m.\u001b[39;49mmove(\u001b[39m3\u001b[39;49m,\u001b[39m3\u001b[39;49m,\u001b[39m-\u001b[39;49m\u001b[39m1\u001b[39;49m,\u001b[39m3\u001b[39;49m)\n\u001b[0;32m      <a href='vscode-notebook-cell:/c%3A/Users/seand/Documents/school/F2023/CSCI_3202/final_project/yuanding/Runner.ipynb#W5sZmlsZQ%3D%3D?line=2'>3</a>\u001b[0m game\u001b[39m.\u001b[39mdisplay_board()\n",
      "File \u001b[1;32mc:\\Users\\seand\\Documents\\school\\F2023\\CSCI_3202\\final_project\\yuanding\\PaiSho.py:65\u001b[0m, in \u001b[0;36mPaiSho.move\u001b[1;34m(self, oldx, oldy, newx, newy)\u001b[0m\n\u001b[0;32m     63\u001b[0m piecerange \u001b[39m=\u001b[39m \u001b[39mint\u001b[39m(piece\u001b[39m.\u001b[39mtype)\n\u001b[0;32m     64\u001b[0m accessible \u001b[39m=\u001b[39m (\u001b[39mabs\u001b[39m(newx\u001b[39m-\u001b[39moldx) \u001b[39m+\u001b[39m \u001b[39mabs\u001b[39m(newy\u001b[39m-\u001b[39moldy) \u001b[39m<\u001b[39m\u001b[39m=\u001b[39m piecerange)\n\u001b[1;32m---> 65\u001b[0m \u001b[39mif\u001b[39;00m \u001b[39mnot\u001b[39;00m accessible: \u001b[39mraise\u001b[39;00m \u001b[39mException\u001b[39;00m(\u001b[39m\"\u001b[39m\u001b[39mOut of range\u001b[39m\u001b[39m\"\u001b[39m)\n\u001b[0;32m     67\u001b[0m \u001b[39m# Remove the piece from the old square and add it to the new square\u001b[39;00m\n\u001b[0;32m     68\u001b[0m \u001b[39mself\u001b[39m\u001b[39m.\u001b[39mremove(oldx,oldy)\n",
      "\u001b[1;31mException\u001b[0m: Out of range"
     ]
    }
   ],
   "source": [
    "# Try to move piece out of range. An exception should result\n",
    "game.move(3,3,-1,3)\n",
    "game.display_board()"
   ]
  },
  {
   "cell_type": "code",
   "execution_count": null,
   "id": "c94a0130-798c-41c3-acc7-f1fa6761b147",
   "metadata": {},
   "outputs": [
    {
     "ename": "",
     "evalue": "",
     "output_type": "error",
     "traceback": [
      "\u001b[1;31mRunning cells with 'c:\\msys64\\mingw64\\bin\\python.exe' requires the ipykernel package.\n",
      "\u001b[1;31mRun the following command to install 'ipykernel' into the Python environment. \n",
      "\u001b[1;31mCommand: 'c:/msys64/mingw64/bin/python.exe -m pip install ipykernel -U --user --force-reinstall'"
     ]
    }
   ],
   "source": [
    "# Other Examples:\n",
    "\n",
    "# # Example of setting specific values:\n",
    "# game.add(2,1,\"P1\")\n",
    "# game.display_board()\n",
    "\n",
    "# # Example of setting specific values:\n",
    "# game.remove(2,1)\n",
    "# game.display_board()\n",
    "\n",
    "# # game.add(2,-1,\"P1\")\n",
    "# game.display_board()\n",
    "\n",
    "# # Example of setting specific values:\n",
    "# game.checkHarmonies()"
   ]
  }
 ],
 "metadata": {
  "kernelspec": {
   "display_name": "Python 3 (ipykernel)",
   "language": "python",
   "name": "python3"
  },
  "language_info": {
   "codemirror_mode": {
    "name": "ipython",
    "version": 3
   },
   "file_extension": ".py",
   "mimetype": "text/x-python",
   "name": "python",
   "nbconvert_exporter": "python",
   "pygments_lexer": "ipython3",
   "version": "3.11.4"
  }
 },
 "nbformat": 4,
 "nbformat_minor": 5
}
